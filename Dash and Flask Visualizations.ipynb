{
 "cells": [
  {
   "cell_type": "code",
   "execution_count": 1,
   "metadata": {},
   "outputs": [],
   "source": [
    "import pandas as pd\n",
    "import numpy as np\n",
    "import dash\n",
    "import dash_core_components as dcc\n",
    "import dash_html_components as html\n",
    "from dash.dependencies import Input, Output\n",
    "import plotly.graph_objs as go\n",
    "import json\n",
    "import flask\n",
    "import dash_bio as dashbio"
   ]
  },
  {
   "cell_type": "markdown",
   "metadata": {},
   "source": [
    "## Importing data"
   ]
  },
  {
   "cell_type": "code",
   "execution_count": 2,
   "metadata": {},
   "outputs": [],
   "source": [
    "#import number of nodes per level for each root\n",
    "df = pd.read_csv(\"withoutsum.csv\")\n",
    "\n",
    "#Rename first column to Disease Name\n",
    "df = df.rename(columns = {'Unnamed: 0':\"Disease Name\"})\n",
    "\n",
    "#store column names\n",
    "cols = df.columns "
   ]
  },
  {
   "cell_type": "code",
   "execution_count": 3,
   "metadata": {},
   "outputs": [],
   "source": [
    "df2 = pd.read_csv(\"withsum.csv\")\n",
    "\n",
    "df2 = df2.rename(columns = {'Unnamed: 0':\"Disease Name\"})\n",
    "\n",
    "cols2 = df2.columns #stores col names in variable\n"
   ]
  },
  {
   "cell_type": "markdown",
   "metadata": {},
   "source": [
    "## Dashboard showing number of nodes in each level (excluding root)"
   ]
  },
  {
   "cell_type": "code",
   "execution_count": 3,
   "metadata": {
    "scrolled": true
   },
   "outputs": [
    {
     "name": "stdout",
     "output_type": "stream",
     "text": [
      " * Serving Flask app \"__main__\" (lazy loading)\n",
      " * Environment: production\n",
      "   WARNING: This is a development server. Do not use it in a production deployment.\n",
      "   Use a production WSGI server instead.\n",
      " * Debug mode: off\n"
     ]
    },
    {
     "name": "stderr",
     "output_type": "stream",
     "text": [
      " * Running on http://127.0.0.1:8050/ (Press CTRL+C to quit)\n",
      "127.0.0.1 - - [11/Sep/2019 11:22:31] \"GET / HTTP/1.1\" 200 -\n",
      "127.0.0.1 - - [11/Sep/2019 11:22:31] \"GET /_dash-component-suites/dash_renderer/react@16.8.6.min.js?v=1.0.1&m=1567121872 HTTP/1.1\" 200 -\n",
      "127.0.0.1 - - [11/Sep/2019 11:22:31] \"GET /_dash-component-suites/dash_renderer/react-dom@16.8.6.min.js?v=1.0.1&m=1567121872 HTTP/1.1\" 200 -\n",
      "127.0.0.1 - - [11/Sep/2019 11:22:31] \"GET /_dash-component-suites/dash_renderer/prop-types@15.7.2.min.js?v=1.0.1&m=1567121872 HTTP/1.1\" 200 -\n",
      "127.0.0.1 - - [11/Sep/2019 11:22:31] \"GET /_dash-component-suites/dash_core_components/highlight.pack.js?v=1.1.2&m=1567121874 HTTP/1.1\" 200 -\n",
      "127.0.0.1 - - [11/Sep/2019 11:22:31] \"GET /_dash-component-suites/dash_core_components/dash_core_components.min.js?v=1.1.2&m=1567121874 HTTP/1.1\" 200 -\n",
      "127.0.0.1 - - [11/Sep/2019 11:22:31] \"GET /_dash-component-suites/dash_html_components/dash_html_components.min.js?v=1.0.1&m=1567121877 HTTP/1.1\" 200 -\n",
      "127.0.0.1 - - [11/Sep/2019 11:22:31] \"GET /_dash-component-suites/dash_renderer/dash_renderer.min.js?v=1.0.1&m=1567121872 HTTP/1.1\" 200 -\n",
      "127.0.0.1 - - [11/Sep/2019 11:22:31] \"GET /_dash-component-suites/dash_core_components/plotly-1.49.4.min.js?v=1.1.2&m=1567121874 HTTP/1.1\" 200 -\n",
      "127.0.0.1 - - [11/Sep/2019 11:22:33] \"GET /_dash-layout HTTP/1.1\" 200 -\n",
      "127.0.0.1 - - [11/Sep/2019 11:22:33] \"GET /_dash-dependencies HTTP/1.1\" 200 -\n",
      "127.0.0.1 - - [11/Sep/2019 11:22:36] \"POST /_dash-update-component HTTP/1.1\" 200 -\n"
     ]
    }
   ],
   "source": [
    "app = dash.Dash()\n",
    "\n",
    "#specify Dash layout\n",
    "app.layout = html.Div([\n",
    "                dcc.Dropdown(id=\"disease-type\", #\n",
    "                            options = [{\"label\":disease, \"value\":disease} for disease in df[cols[0]]],\n",
    "                             value = df[cols[0]].iloc[0]\n",
    "                            ),\n",
    "    dcc.Graph(id=\"graphics\")\n",
    "            ])\n",
    "\n",
    "@app.callback(\n",
    "Output(\"graphics\",\"figure\"),\n",
    "[Input(\"disease-type\",\"value\")])\n",
    "\n",
    "def update_graph(selected_disease):\n",
    "    filtered_df = df[df[cols[0]] == selected_disease]\n",
    "    nodes = filtered_df.loc[:,\"1\":\"12\"].values.tolist()\n",
    "    nodes = nodes[0]\n",
    "    return {\n",
    "        \"data\": [\n",
    "                 {\"x\":list(cols)[2:14],\"y\":nodes,\"type\":\"bar\"},\n",
    "             ],\n",
    "        \"layout\": go.Layout(title = \"Nodes Per Level\",\n",
    "                           xaxis = {\"title\":\"Levels\"},\n",
    "                            yaxis = {\"title\":\"Nodes\"}\n",
    "                           )\n",
    "    }\n",
    "                     \n",
    "\n",
    "if __name__ == \"__main__\":\n",
    "    app.run_server()"
   ]
  },
  {
   "cell_type": "markdown",
   "metadata": {},
   "source": [
    "## Piechart showing distribution of nodes in each level depending on disease"
   ]
  },
  {
   "cell_type": "code",
   "execution_count": 10,
   "metadata": {},
   "outputs": [
    {
     "name": "stdout",
     "output_type": "stream",
     "text": [
      " * Serving Flask app \"__main__\" (lazy loading)\n",
      " * Environment: production\n",
      "   WARNING: This is a development server. Do not use it in a production deployment.\n",
      "   Use a production WSGI server instead.\n",
      " * Debug mode: off\n"
     ]
    },
    {
     "name": "stderr",
     "output_type": "stream",
     "text": [
      " * Running on http://127.0.0.1:8050/ (Press CTRL+C to quit)\n",
      "127.0.0.1 - - [09/Sep/2019 17:09:34] \"GET / HTTP/1.1\" 200 -\n",
      "127.0.0.1 - - [09/Sep/2019 17:09:34] \"GET /_dash-component-suites/dash_renderer/react-dom@16.8.6.min.js?v=1.0.1&m=1567121872 HTTP/1.1\" 200 -\n",
      "127.0.0.1 - - [09/Sep/2019 17:09:34] \"GET /_dash-component-suites/dash_renderer/prop-types@15.7.2.min.js?v=1.0.1&m=1567121872 HTTP/1.1\" 200 -\n",
      "127.0.0.1 - - [09/Sep/2019 17:09:34] \"GET /_dash-component-suites/dash_renderer/react@16.8.6.min.js?v=1.0.1&m=1567121872 HTTP/1.1\" 200 -\n",
      "127.0.0.1 - - [09/Sep/2019 17:09:34] \"GET /_dash-component-suites/dash_core_components/highlight.pack.js?v=1.1.2&m=1567121874 HTTP/1.1\" 200 -\n",
      "127.0.0.1 - - [09/Sep/2019 17:09:34] \"GET /_dash-component-suites/dash_html_components/dash_html_components.min.js?v=1.0.1&m=1567121877 HTTP/1.1\" 200 -\n",
      "127.0.0.1 - - [09/Sep/2019 17:09:34] \"GET /_dash-component-suites/dash_renderer/dash_renderer.min.js?v=1.0.1&m=1567121872 HTTP/1.1\" 200 -\n",
      "127.0.0.1 - - [09/Sep/2019 17:09:34] \"GET /_dash-component-suites/dash_core_components/dash_core_components.min.js?v=1.1.2&m=1567121874 HTTP/1.1\" 200 -\n",
      "127.0.0.1 - - [09/Sep/2019 17:09:34] \"GET /_dash-component-suites/dash_core_components/plotly-1.49.4.min.js?v=1.1.2&m=1567121874 HTTP/1.1\" 200 -\n",
      "127.0.0.1 - - [09/Sep/2019 17:09:36] \"GET /_dash-dependencies HTTP/1.1\" 200 -\n",
      "127.0.0.1 - - [09/Sep/2019 17:09:36] \"GET /_dash-layout HTTP/1.1\" 200 -\n",
      "127.0.0.1 - - [09/Sep/2019 17:09:36] \"POST /_dash-update-component HTTP/1.1\" 200 -\n"
     ]
    }
   ],
   "source": [
    "app = dash.Dash()\n",
    "\n",
    "\n",
    "app.layout = html.Div([\n",
    "                dcc.Dropdown(id=\"disease-type\",\n",
    "                            options = [{\"label\":disease, \"value\":disease} for disease in df[cols[0]]],\n",
    "                             value = df[cols[0]].iloc[0]\n",
    "                            ),\n",
    "    dcc.Graph(id=\"graphics\")\n",
    "            ])\n",
    "\n",
    "@app.callback(\n",
    "Output(\"graphics\",\"figure\"),\n",
    "[Input(\"disease-type\",\"value\")])\n",
    "\n",
    "def update_graph(selected_disease):\n",
    "    filtered_df = df[df[cols[0]] == selected_disease]\n",
    "    nodes = filtered_df.loc[:,\"1\":\"12\"].values.tolist()\n",
    "    nodes = nodes[0]\n",
    "    return {\n",
    "        \"data\": [go.Pie(values=nodes)], \n",
    "        \"layout\": {\"title\":\"Number of Nodes per level\",\n",
    "                  }\n",
    "    }\n",
    "\n",
    "if __name__ == \"__main__\":\n",
    "    app.run_server()"
   ]
  },
  {
   "cell_type": "markdown",
   "metadata": {},
   "source": [
    "## Bubble Charts of all Roots"
   ]
  },
  {
   "cell_type": "code",
   "execution_count": 5,
   "metadata": {},
   "outputs": [
    {
     "name": "stdout",
     "output_type": "stream",
     "text": [
      " * Serving Flask app \"__main__\" (lazy loading)\n",
      " * Environment: production\n",
      "   WARNING: This is a development server. Do not use it in a production deployment.\n",
      "   Use a production WSGI server instead.\n",
      " * Debug mode: off\n"
     ]
    },
    {
     "name": "stderr",
     "output_type": "stream",
     "text": [
      " * Running on http://127.0.0.1:8050/ (Press CTRL+C to quit)\n"
     ]
    }
   ],
   "source": [
    "app = dash.Dash()\n",
    "\n",
    "app.layout = html.Div([\n",
    "    dcc.Graph(id=\"graphics\",\n",
    "             figure = {\"data\": [go.Scatter(\n",
    "             x = df)]})\n",
    "            ])\n",
    "\n",
    "if __name__ == \"__main__\":\n",
    "    app.run_server()"
   ]
  },
  {
   "cell_type": "markdown",
   "metadata": {},
   "source": [
    "## Circos graph\n",
    "Using data frame with node totals"
   ]
  },
  {
   "cell_type": "code",
   "execution_count": 7,
   "metadata": {},
   "outputs": [],
   "source": [
    "#Circos data\n",
    "colors = ['#996600', '#666600',\n",
    " '#99991E', '#CC0000',\n",
    " '#FF0000', '#FF00CC',\n",
    " '#FFCCCC', '#FF9900',\n",
    " '#FFCC00', '#FFFF00',\n",
    " '#CCFF00', '#00FF00',\n",
    " '#358000', '#0000CC',\n",
    " '#6699FF', '#99CCFF',\n",
    " '#00FFFF', '#CCFFFF',\n",
    " '#9900CC', '#CC33FF',\n",
    " '#CC99FF', '#666666',\n",
    " '#999999', '#CCCCCC',\n",
    " '#ABE2FB', '#FF8C00']\n",
    "\n",
    "val = 1 #value of layout\n",
    "counter = 0\n",
    "layout_data = []\n",
    "for disease in df[\"Disease Name\"]:\n",
    "    layout_data.append({\"id\":val, \"label\":disease,\"color\":colors[counter],\"len\":df2[\"total_nodes\"][counter]})\n",
    "    val += 1\n",
    "    counter += 1\n",
    "\n",
    "#open list of number of common nodes between each root\n",
    "with open('intersecting_nodes.txt', 'r') as filehandle:\n",
    "    common_nodes = json.load(filehandle)\n",
    "\n",
    "#creating circos data\n",
    "circos_data = []\n",
    "\n",
    "for root in common_nodes.keys():\n",
    "    for key in common_nodes[root]:\n",
    "        if common_nodes[root][key] != 0:\n",
    "            circos_data.append({\"color\":\"#ff5722\",\"source\": {\"id\":root, \"start\":0, \"end\":common_nodes[root][key]},\"target\":{\"id\":key,\"start\":0,\"end\":common_nodes[root][key]}})\n"
   ]
  },
  {
   "cell_type": "code",
   "execution_count": 5,
   "metadata": {},
   "outputs": [
    {
     "name": "stdout",
     "output_type": "stream",
     "text": [
      " * Serving Flask app \"__main__\" (lazy loading)\n",
      " * Environment: production\n",
      "   WARNING: This is a development server. Do not use it in a production deployment.\n",
      "   Use a production WSGI server instead.\n",
      " * Debug mode: off\n"
     ]
    },
    {
     "name": "stderr",
     "output_type": "stream",
     "text": [
      " * Running on http://127.0.0.1:8050/ (Press CTRL+C to quit)\n"
     ]
    }
   ],
   "source": [
    "import dash_bio as dashbio\n",
    "\n",
    "app = dash.Dash()\n",
    "        \n",
    "app.layout = html.Div([\n",
    "    dashbio.Circos(id = \"network-circos\",\n",
    "                   layout = layout_data,\n",
    "                   tracks = [{'type': 'CHORDS',\n",
    "            'data': circos_data,\n",
    "            'config': {\n",
    "                'tooltipContent': {\n",
    "                    'source': 'source',\n",
    "                    'sourceID': 'id',\n",
    "                    'target': 'target',\n",
    "                    'targetID': 'id',\n",
    "                    'targetEnd': 'end'\n",
    "                }\n",
    "            }\n",
    "        }]\n",
    "                  ),\n",
    "    html.Div(id='circos-output')\n",
    "])\n",
    "\n",
    "'''@app.callback(\n",
    "    dash.dependencies.Output('circos-output', 'children'),\n",
    "    [dash.dependencies.Input('network-circos', 'eventDatum')]\n",
    ")'''\n",
    "\n",
    "\n",
    "if __name__ == \"__main__\":\n",
    "    app.run_server()"
   ]
  },
  {
   "cell_type": "markdown",
   "metadata": {},
   "source": [
    "## Horizontal graph total nodes per disease"
   ]
  },
  {
   "cell_type": "code",
   "execution_count": null,
   "metadata": {},
   "outputs": [],
   "source": [
    "app = dash.Dash()\n",
    "\n",
    "app.layout = html.Div([\n",
    "    dcc.Graph(id=\"graphics\",\n",
    "             figure = {\"data\": [go.Scatter(\n",
    "             x = df)]})\n",
    "            ])\n",
    "\n",
    "if __name__ == \"__main__\":\n",
    "    app.run_server()"
   ]
  },
  {
   "cell_type": "markdown",
   "metadata": {},
   "source": [
    "## Distribution Plot of All Nodes"
   ]
  },
  {
   "cell_type": "code",
   "execution_count": 4,
   "metadata": {},
   "outputs": [],
   "source": [
    "df = pd.read_csv(\"withoutsum.csv\")\n",
    "df = df.rename(columns = {'Unnamed: 0':\"Disease Name\"})"
   ]
  },
  {
   "cell_type": "code",
   "execution_count": 52,
   "metadata": {
    "collapsed": true
   },
   "outputs": [
    {
     "ename": "KeyError",
     "evalue": "'Disease '",
     "output_type": "error",
     "traceback": [
      "\u001b[1;31m---------------------------------------------------------------------------\u001b[0m",
      "\u001b[1;31mKeyError\u001b[0m                                  Traceback (most recent call last)",
      "\u001b[1;32m~\\Anaconda3\\lib\\site-packages\\pandas\\core\\indexes\\base.py\u001b[0m in \u001b[0;36mget_loc\u001b[1;34m(self, key, method, tolerance)\u001b[0m\n\u001b[0;32m   2656\u001b[0m             \u001b[1;32mtry\u001b[0m\u001b[1;33m:\u001b[0m\u001b[1;33m\u001b[0m\u001b[1;33m\u001b[0m\u001b[0m\n\u001b[1;32m-> 2657\u001b[1;33m                 \u001b[1;32mreturn\u001b[0m \u001b[0mself\u001b[0m\u001b[1;33m.\u001b[0m\u001b[0m_engine\u001b[0m\u001b[1;33m.\u001b[0m\u001b[0mget_loc\u001b[0m\u001b[1;33m(\u001b[0m\u001b[0mkey\u001b[0m\u001b[1;33m)\u001b[0m\u001b[1;33m\u001b[0m\u001b[1;33m\u001b[0m\u001b[0m\n\u001b[0m\u001b[0;32m   2658\u001b[0m             \u001b[1;32mexcept\u001b[0m \u001b[0mKeyError\u001b[0m\u001b[1;33m:\u001b[0m\u001b[1;33m\u001b[0m\u001b[1;33m\u001b[0m\u001b[0m\n",
      "\u001b[1;32mpandas/_libs/index.pyx\u001b[0m in \u001b[0;36mpandas._libs.index.IndexEngine.get_loc\u001b[1;34m()\u001b[0m\n",
      "\u001b[1;32mpandas/_libs/index.pyx\u001b[0m in \u001b[0;36mpandas._libs.index.IndexEngine.get_loc\u001b[1;34m()\u001b[0m\n",
      "\u001b[1;32mpandas/_libs/hashtable_class_helper.pxi\u001b[0m in \u001b[0;36mpandas._libs.hashtable.PyObjectHashTable.get_item\u001b[1;34m()\u001b[0m\n",
      "\u001b[1;32mpandas/_libs/hashtable_class_helper.pxi\u001b[0m in \u001b[0;36mpandas._libs.hashtable.PyObjectHashTable.get_item\u001b[1;34m()\u001b[0m\n",
      "\u001b[1;31mKeyError\u001b[0m: 'Disease '",
      "\nDuring handling of the above exception, another exception occurred:\n",
      "\u001b[1;31mKeyError\u001b[0m                                  Traceback (most recent call last)",
      "\u001b[1;32m<ipython-input-52-d1c353719705>\u001b[0m in \u001b[0;36m<module>\u001b[1;34m\u001b[0m\n\u001b[0;32m      4\u001b[0m                 dcc.Checklist(id=\"disease-type\",\n\u001b[0;32m      5\u001b[0m                             \u001b[0moptions\u001b[0m \u001b[1;33m=\u001b[0m \u001b[1;33m[\u001b[0m\u001b[1;33m{\u001b[0m\u001b[1;34m\"label\"\u001b[0m\u001b[1;33m:\u001b[0m\u001b[0mdisease\u001b[0m\u001b[1;33m,\u001b[0m \u001b[1;34m\"value\"\u001b[0m\u001b[1;33m:\u001b[0m\u001b[0mdisease\u001b[0m\u001b[1;33m}\u001b[0m \u001b[1;32mfor\u001b[0m \u001b[0mdisease\u001b[0m \u001b[1;32min\u001b[0m \u001b[0mdf\u001b[0m\u001b[1;33m[\u001b[0m\u001b[1;34m\"Disease Name\"\u001b[0m\u001b[1;33m]\u001b[0m\u001b[1;33m]\u001b[0m\u001b[1;33m,\u001b[0m\u001b[1;33m\u001b[0m\u001b[1;33m\u001b[0m\u001b[0m\n\u001b[1;32m----> 6\u001b[1;33m                              \u001b[0mvalue\u001b[0m \u001b[1;33m=\u001b[0m \u001b[0mdf\u001b[0m\u001b[1;33m[\u001b[0m\u001b[1;34m\"Disease \"\u001b[0m\u001b[1;33m]\u001b[0m\u001b[1;33m.\u001b[0m\u001b[0miloc\u001b[0m\u001b[1;33m[\u001b[0m\u001b[1;36m0\u001b[0m\u001b[1;33m]\u001b[0m\u001b[1;33m\u001b[0m\u001b[1;33m\u001b[0m\u001b[0m\n\u001b[0m\u001b[0;32m      7\u001b[0m                             ),\n\u001b[0;32m      8\u001b[0m     \u001b[0mdcc\u001b[0m\u001b[1;33m.\u001b[0m\u001b[0mGraph\u001b[0m\u001b[1;33m(\u001b[0m\u001b[0mid\u001b[0m\u001b[1;33m=\u001b[0m\u001b[1;34m\"graphics\"\u001b[0m\u001b[1;33m)\u001b[0m\u001b[1;33m\u001b[0m\u001b[1;33m\u001b[0m\u001b[0m\n",
      "\u001b[1;32m~\\Anaconda3\\lib\\site-packages\\pandas\\core\\frame.py\u001b[0m in \u001b[0;36m__getitem__\u001b[1;34m(self, key)\u001b[0m\n\u001b[0;32m   2925\u001b[0m             \u001b[1;32mif\u001b[0m \u001b[0mself\u001b[0m\u001b[1;33m.\u001b[0m\u001b[0mcolumns\u001b[0m\u001b[1;33m.\u001b[0m\u001b[0mnlevels\u001b[0m \u001b[1;33m>\u001b[0m \u001b[1;36m1\u001b[0m\u001b[1;33m:\u001b[0m\u001b[1;33m\u001b[0m\u001b[1;33m\u001b[0m\u001b[0m\n\u001b[0;32m   2926\u001b[0m                 \u001b[1;32mreturn\u001b[0m \u001b[0mself\u001b[0m\u001b[1;33m.\u001b[0m\u001b[0m_getitem_multilevel\u001b[0m\u001b[1;33m(\u001b[0m\u001b[0mkey\u001b[0m\u001b[1;33m)\u001b[0m\u001b[1;33m\u001b[0m\u001b[1;33m\u001b[0m\u001b[0m\n\u001b[1;32m-> 2927\u001b[1;33m             \u001b[0mindexer\u001b[0m \u001b[1;33m=\u001b[0m \u001b[0mself\u001b[0m\u001b[1;33m.\u001b[0m\u001b[0mcolumns\u001b[0m\u001b[1;33m.\u001b[0m\u001b[0mget_loc\u001b[0m\u001b[1;33m(\u001b[0m\u001b[0mkey\u001b[0m\u001b[1;33m)\u001b[0m\u001b[1;33m\u001b[0m\u001b[1;33m\u001b[0m\u001b[0m\n\u001b[0m\u001b[0;32m   2928\u001b[0m             \u001b[1;32mif\u001b[0m \u001b[0mis_integer\u001b[0m\u001b[1;33m(\u001b[0m\u001b[0mindexer\u001b[0m\u001b[1;33m)\u001b[0m\u001b[1;33m:\u001b[0m\u001b[1;33m\u001b[0m\u001b[1;33m\u001b[0m\u001b[0m\n\u001b[0;32m   2929\u001b[0m                 \u001b[0mindexer\u001b[0m \u001b[1;33m=\u001b[0m \u001b[1;33m[\u001b[0m\u001b[0mindexer\u001b[0m\u001b[1;33m]\u001b[0m\u001b[1;33m\u001b[0m\u001b[1;33m\u001b[0m\u001b[0m\n",
      "\u001b[1;32m~\\Anaconda3\\lib\\site-packages\\pandas\\core\\indexes\\base.py\u001b[0m in \u001b[0;36mget_loc\u001b[1;34m(self, key, method, tolerance)\u001b[0m\n\u001b[0;32m   2657\u001b[0m                 \u001b[1;32mreturn\u001b[0m \u001b[0mself\u001b[0m\u001b[1;33m.\u001b[0m\u001b[0m_engine\u001b[0m\u001b[1;33m.\u001b[0m\u001b[0mget_loc\u001b[0m\u001b[1;33m(\u001b[0m\u001b[0mkey\u001b[0m\u001b[1;33m)\u001b[0m\u001b[1;33m\u001b[0m\u001b[1;33m\u001b[0m\u001b[0m\n\u001b[0;32m   2658\u001b[0m             \u001b[1;32mexcept\u001b[0m \u001b[0mKeyError\u001b[0m\u001b[1;33m:\u001b[0m\u001b[1;33m\u001b[0m\u001b[1;33m\u001b[0m\u001b[0m\n\u001b[1;32m-> 2659\u001b[1;33m                 \u001b[1;32mreturn\u001b[0m \u001b[0mself\u001b[0m\u001b[1;33m.\u001b[0m\u001b[0m_engine\u001b[0m\u001b[1;33m.\u001b[0m\u001b[0mget_loc\u001b[0m\u001b[1;33m(\u001b[0m\u001b[0mself\u001b[0m\u001b[1;33m.\u001b[0m\u001b[0m_maybe_cast_indexer\u001b[0m\u001b[1;33m(\u001b[0m\u001b[0mkey\u001b[0m\u001b[1;33m)\u001b[0m\u001b[1;33m)\u001b[0m\u001b[1;33m\u001b[0m\u001b[1;33m\u001b[0m\u001b[0m\n\u001b[0m\u001b[0;32m   2660\u001b[0m         \u001b[0mindexer\u001b[0m \u001b[1;33m=\u001b[0m \u001b[0mself\u001b[0m\u001b[1;33m.\u001b[0m\u001b[0mget_indexer\u001b[0m\u001b[1;33m(\u001b[0m\u001b[1;33m[\u001b[0m\u001b[0mkey\u001b[0m\u001b[1;33m]\u001b[0m\u001b[1;33m,\u001b[0m \u001b[0mmethod\u001b[0m\u001b[1;33m=\u001b[0m\u001b[0mmethod\u001b[0m\u001b[1;33m,\u001b[0m \u001b[0mtolerance\u001b[0m\u001b[1;33m=\u001b[0m\u001b[0mtolerance\u001b[0m\u001b[1;33m)\u001b[0m\u001b[1;33m\u001b[0m\u001b[1;33m\u001b[0m\u001b[0m\n\u001b[0;32m   2661\u001b[0m         \u001b[1;32mif\u001b[0m \u001b[0mindexer\u001b[0m\u001b[1;33m.\u001b[0m\u001b[0mndim\u001b[0m \u001b[1;33m>\u001b[0m \u001b[1;36m1\u001b[0m \u001b[1;32mor\u001b[0m \u001b[0mindexer\u001b[0m\u001b[1;33m.\u001b[0m\u001b[0msize\u001b[0m \u001b[1;33m>\u001b[0m \u001b[1;36m1\u001b[0m\u001b[1;33m:\u001b[0m\u001b[1;33m\u001b[0m\u001b[1;33m\u001b[0m\u001b[0m\n",
      "\u001b[1;32mpandas/_libs/index.pyx\u001b[0m in \u001b[0;36mpandas._libs.index.IndexEngine.get_loc\u001b[1;34m()\u001b[0m\n",
      "\u001b[1;32mpandas/_libs/index.pyx\u001b[0m in \u001b[0;36mpandas._libs.index.IndexEngine.get_loc\u001b[1;34m()\u001b[0m\n",
      "\u001b[1;32mpandas/_libs/hashtable_class_helper.pxi\u001b[0m in \u001b[0;36mpandas._libs.hashtable.PyObjectHashTable.get_item\u001b[1;34m()\u001b[0m\n",
      "\u001b[1;32mpandas/_libs/hashtable_class_helper.pxi\u001b[0m in \u001b[0;36mpandas._libs.hashtable.PyObjectHashTable.get_item\u001b[1;34m()\u001b[0m\n",
      "\u001b[1;31mKeyError\u001b[0m: 'Disease '"
     ]
    }
   ],
   "source": [
    "app = dash.Dash()\n",
    "\n",
    "ff.create_distplot(hist_data, group_labels)\n",
    "\n",
    "app.layout = html.Div([\n",
    "                dcc.Checklist(id=\"disease-type\",\n",
    "                            options = [{\"label\":disease, \"value\":disease} for disease in df[\"Disease Name\"]],\n",
    "                             value = df[\"Disease \"].iloc[0]\n",
    "                            ),\n",
    "    dcc.Graph(id=\"graphics\")\n",
    "            ])\n",
    "\n",
    "@app.callback(\n",
    "Output(\"graphics\",\"figure\"),\n",
    "[Input(\"disease-type\",\"value\")])\n",
    "\n",
    "def update_graph(selected_disease):\n",
    "    filtered_df = df[df[cols[0]] == selected_disease]\n",
    "    nodes = filtered_df.loc[:,\"1\":\"12\"].values.tolist()\n",
    "    nodes = nodes[0]\n",
    "    group_labels = [\"Distplots\"]\n",
    "    return ff.create_distplot(nodes, group_labels)\n",
    "\n",
    "\n",
    "if __name__ == \"__main__\":\n",
    "    app.run_server()"
   ]
  },
  {
   "cell_type": "markdown",
   "metadata": {},
   "source": [
    "## Multiple Graphs on One Page with Flask deployment"
   ]
  },
  {
   "cell_type": "code",
   "execution_count": 7,
   "metadata": {},
   "outputs": [
    {
     "name": "stdout",
     "output_type": "stream",
     "text": [
      " * Serving Flask app \"__main__\" (lazy loading)\n",
      " * Environment: production\n",
      "   WARNING: This is a development server. Do not use it in a production deployment.\n",
      "   Use a production WSGI server instead.\n",
      " * Debug mode: off\n"
     ]
    },
    {
     "name": "stderr",
     "output_type": "stream",
     "text": [
      " * Running on http://127.0.0.1:8050/ (Press CTRL+C to quit)\n",
      "127.0.0.1 - - [11/Sep/2019 14:38:31] \"GET / HTTP/1.1\" 200 -\n",
      "127.0.0.1 - - [11/Sep/2019 14:38:35] \"GET /circos HTTP/1.1\" 404 -\n",
      "127.0.0.1 - - [11/Sep/2019 14:38:41] \"GET /circos/ HTTP/1.1\" 404 -\n"
     ]
    }
   ],
   "source": [
    "import flask\n",
    "import dash_bio as dashbio\n",
    "\n",
    "app = dash.Dash(__name__, url_base_pathname='/dashapp/')\n",
    "server= app.server\n",
    "\n",
    "#home page\n",
    "@server.route('/')\n",
    "def index():\n",
    "    return \"<h> Type /dashapp for cool visuals! </h>\"\n",
    "\n",
    "#circos and barplot graphs\n",
    "app.layout = html.Div([\n",
    "                html.Div([\n",
    "                    html.Div([\n",
    "                        html.H3('Node Barplots'),\n",
    "                          dcc.Dropdown(id=\"disease-type\",\n",
    "                            options = [{\"label\":disease, \"value\":disease} for disease in df[cols[0]]],\n",
    "                             value = df[cols[0]].iloc[0]\n",
    "                            ),\n",
    "    dcc.Graph(id=\"graphics\")\n",
    "            ]),\n",
    "                   \n",
    "                    html.Div([\n",
    "                        html.H3(\"Circos Graph\"),\n",
    "                        dashbio.Circos(id = \"network-circos\",\n",
    "                   layout = layout_data,\n",
    "                   tracks = [{'type': 'CHORDS',\n",
    "            'data': circos_data,\n",
    "            'config': {\n",
    "                'tooltipContent': {\n",
    "                    'source': 'source',\n",
    "                    'sourceID': 'id',\n",
    "                    'target': 'target',\n",
    "                    'targetID': 'id',\n",
    "                    'targetEnd': 'end'\n",
    "                }\n",
    "            }\n",
    "        }\n",
    "                        \n",
    "                    ])\n",
    "                    ])\n",
    "])\n",
    "])\n",
    "                    \n",
    "\n",
    "@app.callback(\n",
    "Output(\"graphics\",\"figure\"),\n",
    "[Input(\"disease-type\",\"value\")])\n",
    "\n",
    "def update_graph(selected_disease):\n",
    "    filtered_df = df[df[cols[0]] == selected_disease]\n",
    "    nodes = filtered_df.loc[:,\"1\":\"12\"].values.tolist()\n",
    "    nodes = nodes[0]\n",
    "    return {\n",
    "        \"data\": [\n",
    "                 {\"x\":list(cols)[2:14],\"y\":nodes,\"type\":\"bar\"},\n",
    "             ],\n",
    "        \"layout\": go.Layout(title = \"Nodes Per Level\",\n",
    "                           xaxis = {\"title\":\"Levels\"},\n",
    "                            yaxis = {\"title\":\"Nodes\"}\n",
    "                           )\n",
    "    }\n",
    "\n",
    "#circos and barplot routes\n",
    "@server.route('/graphs')\n",
    "def graphs():\n",
    "    return flask.redirect('/dashapp')\n",
    "\n",
    "#circos graph only\n",
    "app = dash.Dash(__name__, url_base_pathname='/circos/')\n",
    "server = app.server\n",
    "\n",
    "app.layout = html.Div([\n",
    "    dashbio.Circos(id = \"network-circos\",\n",
    "                   layout = layout_data,\n",
    "                   tracks = [{'type': 'CHORDS',\n",
    "            'data': circos_data,\n",
    "            'config': {\n",
    "                'tooltipContent': {\n",
    "                    'source': 'source',\n",
    "                    'sourceID': 'id',\n",
    "                    'target': 'target',\n",
    "                    'targetID': 'id',\n",
    "                    'targetEnd': 'end'\n",
    "                }\n",
    "            }\n",
    "        }]\n",
    "                  ),\n",
    "    html.Div(id='circos-output')\n",
    "])\n",
    "    \n",
    "@server.route('/graphs')\n",
    "def graphs():\n",
    "    return flask.redirect('/circos') \n",
    "\n",
    "if __name__ == \"__main__\":\n",
    "    app.run_server()"
   ]
  },
  {
   "cell_type": "markdown",
   "metadata": {},
   "source": [
    "## Multiple Webpages"
   ]
  },
  {
   "cell_type": "code",
   "execution_count": 4,
   "metadata": {},
   "outputs": [
    {
     "ename": "FileNotFoundError",
     "evalue": "[Errno 2] No such file or directory: 'intersecting_nodes.txt'",
     "output_type": "error",
     "traceback": [
      "\u001b[1;31m---------------------------------------------------------------------------\u001b[0m",
      "\u001b[1;31mFileNotFoundError\u001b[0m                         Traceback (most recent call last)",
      "\u001b[1;32m<ipython-input-4-4db7428fbad3>\u001b[0m in \u001b[0;36m<module>\u001b[1;34m\u001b[0m\n\u001b[0;32m     23\u001b[0m \u001b[1;33m\u001b[0m\u001b[0m\n\u001b[0;32m     24\u001b[0m \u001b[1;31m#open list of number of common nodes between each root\u001b[0m\u001b[1;33m\u001b[0m\u001b[1;33m\u001b[0m\u001b[1;33m\u001b[0m\u001b[0m\n\u001b[1;32m---> 25\u001b[1;33m \u001b[1;32mwith\u001b[0m \u001b[0mopen\u001b[0m\u001b[1;33m(\u001b[0m\u001b[1;34m'intersecting_nodes.txt'\u001b[0m\u001b[1;33m,\u001b[0m \u001b[1;34m'r'\u001b[0m\u001b[1;33m)\u001b[0m \u001b[1;32mas\u001b[0m \u001b[0mfilehandle\u001b[0m\u001b[1;33m:\u001b[0m\u001b[1;33m\u001b[0m\u001b[1;33m\u001b[0m\u001b[0m\n\u001b[0m\u001b[0;32m     26\u001b[0m     \u001b[0mcommon_nodes\u001b[0m \u001b[1;33m=\u001b[0m \u001b[0mjson\u001b[0m\u001b[1;33m.\u001b[0m\u001b[0mload\u001b[0m\u001b[1;33m(\u001b[0m\u001b[0mfilehandle\u001b[0m\u001b[1;33m)\u001b[0m\u001b[1;33m\u001b[0m\u001b[1;33m\u001b[0m\u001b[0m\n\u001b[0;32m     27\u001b[0m \u001b[1;33m\u001b[0m\u001b[0m\n",
      "\u001b[1;31mFileNotFoundError\u001b[0m: [Errno 2] No such file or directory: 'intersecting_nodes.txt'"
     ]
    }
   ],
   "source": [
    "#Circos data\n",
    "colors = ['#996600', '#666600',\n",
    " '#99991E', '#CC0000',\n",
    " '#FF0000', '#FF00CC',\n",
    " '#FFCCCC', '#FF9900',\n",
    " '#FFCC00', '#FFFF00',\n",
    " '#CCFF00', '#00FF00',\n",
    " '#358000', '#0000CC',\n",
    " '#6699FF', '#99CCFF',\n",
    " '#00FFFF', '#CCFFFF',\n",
    " '#9900CC', '#CC33FF',\n",
    " '#CC99FF', '#666666',\n",
    " '#999999', '#CCCCCC',\n",
    " '#ABE2FB', '#FF8C00']\n",
    "\n",
    "val = 1 #value of layout\n",
    "counter = 0\n",
    "layout_data = []\n",
    "for disease in df[\"Disease Name\"]:\n",
    "    layout_data.append({\"id\":val, \"label\":disease,\"color\":colors[counter],\"len\":df2[\"total_nodes\"][counter]})\n",
    "    val += 1\n",
    "    counter += 1\n",
    "\n",
    "#open list of number of common nodes between each root\n",
    "with open('intersecting_nodes.txt', 'r') as filehandle:\n",
    "    common_nodes = json.load(filehandle)\n",
    "\n",
    "#creating circos data\n",
    "circos_data = []\n",
    "\n",
    "for root in common_nodes.keys():\n",
    "    for key in common_nodes[root]:\n",
    "        if common_nodes[root][key] != 0:\n",
    "            circos_data.append({\"color\":\"#ff5722\",\"source\": {\"id\":root, \"start\":0, \"end\":common_nodes[root][key]},\"target\":{\"id\":key,\"start\":0,\"end\":common_nodes[root][key]}})"
   ]
  },
  {
   "cell_type": "code",
   "execution_count": 5,
   "metadata": {
    "scrolled": true
   },
   "outputs": [
    {
     "ename": "NameError",
     "evalue": "name 'circos_data' is not defined",
     "output_type": "error",
     "traceback": [
      "\u001b[1;31m---------------------------------------------------------------------------\u001b[0m",
      "\u001b[1;31mNameError\u001b[0m                                 Traceback (most recent call last)",
      "\u001b[1;32m<ipython-input-5-f87db3a3551f>\u001b[0m in \u001b[0;36m<module>\u001b[1;34m\u001b[0m\n\u001b[0;32m     21\u001b[0m                    \u001b[0mlayout\u001b[0m \u001b[1;33m=\u001b[0m \u001b[0mlayout_data\u001b[0m\u001b[1;33m,\u001b[0m\u001b[1;33m\u001b[0m\u001b[1;33m\u001b[0m\u001b[0m\n\u001b[0;32m     22\u001b[0m                    tracks = [{'type': 'CHORDS',\n\u001b[1;32m---> 23\u001b[1;33m             \u001b[1;34m'data'\u001b[0m\u001b[1;33m:\u001b[0m \u001b[0mcircos_data\u001b[0m\u001b[1;33m,\u001b[0m\u001b[1;33m\u001b[0m\u001b[1;33m\u001b[0m\u001b[0m\n\u001b[0m\u001b[0;32m     24\u001b[0m             'config': {\n\u001b[0;32m     25\u001b[0m                 'tooltipContent': {\n",
      "\u001b[1;31mNameError\u001b[0m: name 'circos_data' is not defined"
     ]
    }
   ],
   "source": [
    "app = dash.Dash(__name__)\n",
    "\n",
    "#set up URL bar\n",
    "url_bar_and_content_div = html.Div([\n",
    "    dcc.Location(id='url', refresh=False),\n",
    "    html.Div(id='page-content')\n",
    "])\n",
    "\n",
    "#Homepage layout\n",
    "layout_index = html.Div([\n",
    "    dcc.Link(\"Circos Graph\", href='/page-1'), #link to page 1\n",
    "    html.Br(), #inserts line break\n",
    "    dcc.Link(\"Barplots\", href='/page-2'), #link to page 2\n",
    "    ])\n",
    "\n",
    "layout_page_1 = html.Div([\n",
    "    html.H2('Circos Graph'), #Header of page\n",
    "    \n",
    "    #specify Circos graph layout\n",
    "    dashbio.Circos(id = \"network-circos\",\n",
    "                   layout = layout_data,\n",
    "                   tracks = [{'type': 'CHORDS',\n",
    "            'data': circos_data,\n",
    "            'config': {\n",
    "                'tooltipContent': {\n",
    "                    'source': 'source',\n",
    "                    'sourceID': 'id',\n",
    "                    'target': 'target',\n",
    "                    'targetID': 'id',\n",
    "                    'targetEnd': 'end'\n",
    "                }\n",
    "            }\n",
    "        }]\n",
    "                  ),\n",
    "    html.Div(id='circos-output'),\n",
    "    html.Br(), \n",
    "    dcc.Link('Navigate to homepage', href='/'), #back to home page\n",
    "    html.Br(),\n",
    "    dcc.Link(\"Navigate to Barplot\", href='/page-2'), #to second DCC page\n",
    "    ])\n",
    "\n",
    "layout_page_2 = html.Div([\n",
    "    html.H2('Barplot'),\n",
    "    dcc.Dropdown(id=\"disease-type\", #\n",
    "                            options = [{\"label\":disease, \"value\":disease} for disease in df[cols[0]]],\n",
    "                             value = df[cols[0]].iloc[0]\n",
    "                            ),\n",
    "    dcc.Graph(id=\"graphics\"),\n",
    "    html.Div(id='barplot-output'),\n",
    "    html.Br(),\n",
    "    dcc.Link('Navigate to homepage', href='/'),\n",
    "    html.Br(),\n",
    "    dcc.Link('Navigate to Circos', href='/page-1'),\n",
    "    ])\n",
    "\n",
    "def serve_layout():\n",
    "    if flask.has_request_context():\n",
    "        return url_bar_and_content_div\n",
    "    return html.Div([\n",
    "        url_bar_and_content_div,\n",
    "        layout_index,\n",
    "        layout_page_1,\n",
    "        layout_page_2,\n",
    "    ])\n",
    "\n",
    "app.layout = serve_layout\n",
    "\n",
    "@app.callback(Output('page-content', 'children'),\n",
    "              [Input('url', 'pathname')])\n",
    "def display_page(pathname):\n",
    "    if pathname == \"/page-1\":\n",
    "        return layout_page_1\n",
    "    elif pathname == \"/page-2\":\n",
    "        return layout_page_2\n",
    "    else:\n",
    "        return layout_index\n",
    "\n",
    "# Barplot callbacks\n",
    "@app.callback(\n",
    "Output(\"graphics\",\"figure\"),\n",
    "[Input(\"disease-type\",\"value\")])\n",
    "\n",
    "def update_graph(selected_disease):\n",
    "    filtered_df = df[df[cols[0]] == selected_disease]\n",
    "    nodes = filtered_df.loc[:,\"1\":\"12\"].values.tolist()\n",
    "    nodes = nodes[0]\n",
    "    return {\n",
    "        \"data\": [\n",
    "                 {\"x\":list(cols)[2:14],\"y\":nodes,\"type\":\"bar\"},\n",
    "             ],\n",
    "        \"layout\": go.Layout(title = \"Nodes Per Level\",\n",
    "                           xaxis = {\"title\":\"Levels\"},\n",
    "                            yaxis = {\"title\":\"Nodes\"}\n",
    "                           )\n",
    "    }\n",
    "\n",
    "if __name__ == '__main__':\n",
    "    app.run_server()"
   ]
  }
 ],
 "metadata": {
  "kernelspec": {
   "display_name": "Python 3",
   "language": "python",
   "name": "python3"
  },
  "language_info": {
   "codemirror_mode": {
    "name": "ipython",
    "version": 3
   },
   "file_extension": ".py",
   "mimetype": "text/x-python",
   "name": "python",
   "nbconvert_exporter": "python",
   "pygments_lexer": "ipython3",
   "version": "3.7.4"
  }
 },
 "nbformat": 4,
 "nbformat_minor": 2
}
