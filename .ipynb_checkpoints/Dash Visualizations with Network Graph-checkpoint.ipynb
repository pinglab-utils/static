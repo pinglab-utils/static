{
 "cells": [
  {
   "cell_type": "code",
   "execution_count": 76,
   "metadata": {},
   "outputs": [],
   "source": [
    "import pandas as pd\n",
    "import numpy as np\n",
    "import dash\n",
    "import dash_core_components as dcc\n",
    "import dash_html_components as html\n",
    "from dash.dependencies import Input, Output\n",
    "import plotly.graph_objs as go\n",
    "import json"
   ]
  },
  {
   "cell_type": "markdown",
   "metadata": {},
   "source": [
    "## Importing data"
   ]
  },
  {
   "cell_type": "code",
   "execution_count": 43,
   "metadata": {},
   "outputs": [],
   "source": [
    "df = pd.read_csv(\"withoutsum.csv\")\n",
    "df = df.rename(columns = {'Unnamed: 0':\"Disease Name\"})\n",
    "cols = df.columns #prints out first few observations"
   ]
  },
  {
   "cell_type": "markdown",
   "metadata": {},
   "source": [
    "## Dashboard showing number of nodes in each level (excluding root)"
   ]
  },
  {
   "cell_type": "code",
   "execution_count": 44,
   "metadata": {
    "scrolled": true
   },
   "outputs": [
    {
     "name": "stdout",
     "output_type": "stream",
     "text": [
      " * Serving Flask app \"__main__\" (lazy loading)\n",
      " * Environment: production\n",
      "   WARNING: This is a development server. Do not use it in a production deployment.\n",
      "   Use a production WSGI server instead.\n",
      " * Debug mode: off\n"
     ]
    }
   ],
   "source": [
    "app = dash.Dash()\n",
    "\n",
    "\n",
    "app.layout = html.Div([\n",
    "                dcc.Dropdown(id=\"disease-type\",\n",
    "                            options = [{\"label\":disease, \"value\":disease} for disease in df[cols[0]]],\n",
    "                             value = df[cols[0]].iloc[0]\n",
    "                            ),\n",
    "    dcc.Graph(id=\"graphics\")\n",
    "            ])\n",
    "\n",
    "@app.callback(\n",
    "Output(\"graphics\",\"figure\"),\n",
    "[Input(\"disease-type\",\"value\")])\n",
    "\n",
    "def update_graph(selected_disease):\n",
    "    filtered_df = df[df[cols[0]] == selected_disease]\n",
    "    nodes = filtered_df.loc[:,\"1\":\"12\"].values.tolist()\n",
    "    nodes = nodes[0]\n",
    "    return {\n",
    "        \"data\": [\n",
    "                 {\"x\":list(cols)[2:14],\"y\":nodes,\"type\":\"bar\"},\n",
    "             ],\n",
    "        \"layout\": {\"title\":\"Barplots\"}\n",
    "    }\n",
    "                     \n",
    "\n",
    "if __name__ == \"__main__\":\n",
    "    app.run_server()"
   ]
  },
  {
   "cell_type": "markdown",
   "metadata": {},
   "source": [
    "## Piechart showing distribution of nodes in each level depending on disease"
   ]
  },
  {
   "cell_type": "code",
   "execution_count": 47,
   "metadata": {},
   "outputs": [
    {
     "name": "stdout",
     "output_type": "stream",
     "text": [
      " * Serving Flask app \"__main__\" (lazy loading)\n",
      " * Environment: production\n",
      "   WARNING: This is a development server. Do not use it in a production deployment.\n",
      "   Use a production WSGI server instead.\n",
      " * Debug mode: off\n"
     ]
    }
   ],
   "source": [
    "app = dash.Dash()\n",
    "\n",
    "\n",
    "app.layout = html.Div([\n",
    "                dcc.Dropdown(id=\"disease-type\",\n",
    "                            options = [{\"label\":disease, \"value\":disease} for disease in df[cols[0]]],\n",
    "                             value = df[cols[0]].iloc[0]\n",
    "                            ),\n",
    "    dcc.Graph(id=\"graphics\")\n",
    "            ])\n",
    "\n",
    "@app.callback(\n",
    "Output(\"graphics\",\"figure\"),\n",
    "[Input(\"disease-type\",\"value\")])\n",
    "\n",
    "def update_graph(selected_disease):\n",
    "    filtered_df = df[df[cols[0]] == selected_disease]\n",
    "    nodes = filtered_df.loc[:,\"1\":\"12\"].values.tolist()\n",
    "    nodes = nodes[0]\n",
    "    return {\n",
    "        \"data\": [go.Pie(values=nodes)], \n",
    "        \"layout\": {\"title\":\"Number of Nodes per level\",\n",
    "                  }\n",
    "    }\n",
    "\n",
    "if __name__ == \"__main__\":\n",
    "    app.run_server()"
   ]
  },
  {
   "cell_type": "markdown",
   "metadata": {},
   "source": [
    "## Bubble Charts of all Roots"
   ]
  },
  {
   "cell_type": "code",
   "execution_count": 77,
   "metadata": {},
   "outputs": [
    {
     "name": "stdout",
     "output_type": "stream",
     "text": [
      " * Serving Flask app \"__main__\" (lazy loading)\n",
      " * Environment: production\n",
      "   WARNING: This is a development server. Do not use it in a production deployment.\n",
      "   Use a production WSGI server instead.\n",
      " * Debug mode: off\n"
     ]
    },
    {
     "name": "stderr",
     "output_type": "stream",
     "text": [
      " * Running on http://127.0.0.1:8050/ (Press CTRL+C to quit)\n"
     ]
    }
   ],
   "source": [
    "df = pd.read_csv(\"withsum.csv\")\n",
    "df = df.rename(columns = {'Unnamed: 0':\"Disease Name\"})\n",
    "cols = df.columns #stores col names in variable\n",
    "\n",
    "\n",
    "app = dash.Dash()\n",
    "\n",
    "app.layout = html.Div([\n",
    "    dcc.Graph(id=\"graphics\",\n",
    "             figure = {\"data\": [go.Scatter(\n",
    "             x = df)]})\n",
    "            ])\n",
    "\n",
    "if __name__ == \"__main__\":\n",
    "    app.run_server()"
   ]
  },
  {
   "cell_type": "markdown",
   "metadata": {},
   "source": [
    "## Circos graph"
   ]
  },
  {
   "cell_type": "code",
   "execution_count": null,
   "metadata": {},
   "outputs": [
    {
     "name": "stdout",
     "output_type": "stream",
     "text": [
      " * Serving Flask app \"__main__\" (lazy loading)\n",
      " * Environment: production\n",
      "   WARNING: This is a development server. Do not use it in a production deployment.\n",
      "   Use a production WSGI server instead.\n",
      " * Debug mode: off\n"
     ]
    },
    {
     "name": "stderr",
     "output_type": "stream",
     "text": [
      " * Running on http://127.0.0.1:8050/ (Press CTRL+C to quit)\n",
      "127.0.0.1 - - [03/Sep/2019 15:58:02] \"GET / HTTP/1.1\" 200 -\n",
      "127.0.0.1 - - [03/Sep/2019 15:58:02] \"GET /_dash-component-suites/dash_renderer/prop-types@15.7.2.min.js?v=1.0.1&m=1567121872 HTTP/1.1\" 200 -\n",
      "127.0.0.1 - - [03/Sep/2019 15:58:02] \"GET /_dash-component-suites/dash_renderer/react-dom@16.8.6.min.js?v=1.0.1&m=1567121872 HTTP/1.1\" 200 -\n",
      "127.0.0.1 - - [03/Sep/2019 15:58:02] \"GET /_dash-component-suites/dash_renderer/react@16.8.6.min.js?v=1.0.1&m=1567121872 HTTP/1.1\" 200 -\n",
      "127.0.0.1 - - [03/Sep/2019 15:58:02] \"GET /_dash-component-suites/dash_html_components/dash_html_components.min.js?v=1.0.1&m=1567121877 HTTP/1.1\" 200 -\n",
      "127.0.0.1 - - [03/Sep/2019 15:58:02] \"GET /_dash-component-suites/dash_core_components/highlight.pack.js?v=1.1.2&m=1567121874 HTTP/1.1\" 200 -\n",
      "127.0.0.1 - - [03/Sep/2019 15:58:02] \"GET /_dash-component-suites/dash_renderer/dash_renderer.min.js?v=1.0.1&m=1567121872 HTTP/1.1\" 200 -\n",
      "127.0.0.1 - - [03/Sep/2019 15:58:02] \"GET /_dash-component-suites/dash_core_components/dash_core_components.min.js?v=1.1.2&m=1567121874 HTTP/1.1\" 200 -\n",
      "127.0.0.1 - - [03/Sep/2019 15:58:03] \"GET /_dash-component-suites/dash_core_components/plotly-1.49.4.min.js?v=1.1.2&m=1567121874 HTTP/1.1\" 200 -\n",
      "127.0.0.1 - - [03/Sep/2019 15:58:03] \"GET /_dash-component-suites/dash_bio/bundle.js?v=0.1.4&m=1567121867 HTTP/1.1\" 200 -\n",
      "127.0.0.1 - - [03/Sep/2019 15:58:06] \"GET /_dash-dependencies HTTP/1.1\" 200 -\n",
      "127.0.0.1 - - [03/Sep/2019 15:58:06] \"GET /_dash-layout HTTP/1.1\" 200 -\n"
     ]
    }
   ],
   "source": [
    "import dash_bio as dashbio\n",
    "\n",
    "app = dash.Dash()\n",
    "\n",
    "colors = []\n",
    "for i in circos_graph_data['GRCh37']:\n",
    "    colors.append(i[\"color\"])\n",
    "colors.extend([\"#ABE2FB\",\"#FF8C00\"])\n",
    "\n",
    "val = 1 #value of layout\n",
    "counter = 0\n",
    "layout_data = []\n",
    "for disease in df[\"Disease Name\"]:\n",
    "    layout_data.append({\"id\":val, \"label\":disease,\"color\":colors[counter],\"len\":df[\"total_nodes\"][counter]})\n",
    "    val += 1\n",
    "    counter += 1\n",
    "\n",
    "#open list of number of common nodes between each root\n",
    "with open('intersecting_nodes.txt', 'r') as filehandle:\n",
    "    common_nodes = json.load(filehandle)\n",
    "\n",
    "#creating circos data\n",
    "circos_data = []\n",
    "\n",
    "for root in common_nodes.keys():\n",
    "    for key in common_nodes[root]:\n",
    "        if common_nodes[root][key] != 0:\n",
    "            circos_data.append({\"color\":\"#ff5722\",\"source\": {\"id\":root, \"start\":0, \"end\":common_nodes[root][key]},\"target\":{\"id\":key,\"start\":0,\"end\":common_nodes[root][key]}})\n",
    "        \n",
    "app.layout = html.Div([\n",
    "    dashbio.Circos(id = \"network-circos\",\n",
    "                   layout = layout_data,\n",
    "                   tracks = [{'type': 'CHORDS',\n",
    "            'data': circos_data,\n",
    "            'config': {\n",
    "                'tooltipContent': {\n",
    "                    'source': 'source',\n",
    "                    'sourceID': 'id',\n",
    "                    'target': 'target',\n",
    "                    'targetID': 'id',\n",
    "                    'targetEnd': 'end'\n",
    "                }\n",
    "            }\n",
    "        }]\n",
    "                  ),\n",
    "    html.Div(id='circos-output')\n",
    "])\n",
    "\n",
    "'''@app.callback(\n",
    "    dash.dependencies.Output('circos-output', 'children'),\n",
    "    [dash.dependencies.Input('network-circos', 'eventDatum')]\n",
    ")'''\n",
    "\n",
    "\n",
    "if __name__ == \"__main__\":\n",
    "    app.run_server()"
   ]
  },
  {
   "cell_type": "markdown",
   "metadata": {},
   "source": [
    "## Horizontal graph total nodes per disease"
   ]
  },
  {
   "cell_type": "code",
   "execution_count": null,
   "metadata": {},
   "outputs": [],
   "source": [
    "app = dash.Dash()\n",
    "\n",
    "app.layout = html.Div([\n",
    "    dcc.Graph(id=\"graphics\",\n",
    "             figure = {\"data\": [go.Scatter(\n",
    "             x = df)]})\n",
    "            ])\n",
    "\n",
    "if __name__ == \"__main__\":\n",
    "    app.run_server()"
   ]
  }
 ],
 "metadata": {
  "kernelspec": {
   "display_name": "Python 3",
   "language": "python",
   "name": "python3"
  },
  "language_info": {
   "codemirror_mode": {
    "name": "ipython",
    "version": 3
   },
   "file_extension": ".py",
   "mimetype": "text/x-python",
   "name": "python",
   "nbconvert_exporter": "python",
   "pygments_lexer": "ipython3",
   "version": "3.7.4"
  }
 },
 "nbformat": 4,
 "nbformat_minor": 2
}
